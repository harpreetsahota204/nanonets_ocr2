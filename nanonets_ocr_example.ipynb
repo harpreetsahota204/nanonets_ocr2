{
  "cells": [
    {
      "cell_type": "markdown",
      "metadata": {},
      "source": [
        "# Nanonets-OCR2 with FiftyOne\n",
        "\n",
        "[![Open In Colab](https://colab.research.google.com/assets/colab-badge.svg)](https://colab.research.google.com/github/harpreetsahota204/nanonets_ocr2/blob/main/nanonets_ocr_example.ipynb)\n",
        "\n",
        "This notebook demonstrates how to use Nanonets-OCR2 with FiftyOne for intelligent document OCR with semantic tagging.\n"
      ]
    },
    {
      "cell_type": "markdown",
      "metadata": {},
      "source": [
        "## Installation\n"
      ]
    },
    {
      "cell_type": "code",
      "execution_count": null,
      "metadata": {},
      "outputs": [],
      "source": [
        "%pip install -q fiftyone\n"
      ]
    },
    {
      "cell_type": "markdown",
      "metadata": {},
      "source": [
        "## Load Dataset\n",
        "\n",
        "We'll use a scanned receipts dataset from Hugging Face.\n"
      ]
    },
    {
      "cell_type": "code",
      "execution_count": null,
      "metadata": {},
      "outputs": [],
      "source": [
        "import fiftyone as fo\n",
        "from fiftyone.utils.huggingface import load_from_hub\n",
        "\n",
        "# Load the dataset\n",
        "dataset = load_from_hub(\n",
        "    \"Voxel51/scanned_receipts\",\n",
        "    max_samples=200\n",
        ")\n",
        "\n",
        "print(f\"Loaded {len(dataset)} samples\")\n"
      ]
    },
    {
      "cell_type": "markdown",
      "metadata": {},
      "source": [
        "## Register and Load Model\n",
        "\n",
        "Register the Nanonets-OCR2 model source and load it.\n"
      ]
    },
    {
      "cell_type": "code",
      "execution_count": null,
      "metadata": {},
      "outputs": [],
      "source": [
        "import fiftyone.zoo as foz\n",
        "\n",
        "# Register the model source\n",
        "foz.register_zoo_model_source(\n",
        "    \"https://github.com/harpreetsahota204/nanonets_ocr2\",\n",
        "    overwrite=True\n",
        ")\n",
        "\n",
        "# Load the model\n",
        "model = foz.load_zoo_model(\"nanonets/Nanonets-OCR2-3B\")\n",
        "\n",
        "print(\"Model loaded successfully!\")\n"
      ]
    },
    {
      "cell_type": "markdown",
      "metadata": {},
      "source": [
        "## Apply OCR to Dataset\n",
        "\n",
        "Process all images and extract structured text with semantic tags.\n"
      ]
    },
    {
      "cell_type": "code",
      "execution_count": null,
      "metadata": {},
      "outputs": [],
      "source": [
        "# Apply model to dataset\n",
        "dataset.apply_model(model, label_field=\"ocr_text\")\n",
        "\n",
        "print(\"OCR processing complete!\")\n"
      ]
    },
    {
      "cell_type": "markdown",
      "metadata": {},
      "source": [
        "## View Results\n",
        "\n",
        "Launch the FiftyOne App to explore the OCR results.\n"
      ]
    },
    {
      "cell_type": "code",
      "execution_count": null,
      "metadata": {},
      "outputs": [],
      "source": [
        "# install the plugin to view captions\n",
        "!fiftyone plugins download https://github.com/mythrandire/caption-viewer"
      ]
    },
    {
      "cell_type": "code",
      "execution_count": null,
      "metadata": {},
      "outputs": [],
      "source": [
        "# Launch the App\n",
        "session = fo.launch_app(dataset)"
      ]
    },
    {
      "cell_type": "markdown",
      "metadata": {},
      "source": [
        "## Inspect Sample Results\n",
        "\n",
        "Let's look at the extracted text from a few samples.\n"
      ]
    },
    {
      "cell_type": "code",
      "execution_count": null,
      "metadata": {},
      "outputs": [],
      "source": [
        "# Print OCR results from first 3 samples\n",
        "for sample in dataset.take(3):\n",
        "    print(f\"\\n{'='*80}\")\n",
        "    print(f\"Sample: {sample.filepath}\")\n",
        "    print(f\"{'='*80}\")\n",
        "    print(sample.ocr_text)\n",
        "    print()\n"
      ]
    },
    {
      "cell_type": "markdown",
      "metadata": {},
      "source": [
        "## What to Look For\n",
        "\n",
        "The OCR output includes semantic tags:\n",
        "\n",
        "- `<table>...</table>` - HTML formatted tables\n",
        "- `$...$` or `$$...$$` - LaTeX equations\n",
        "- `<img>...</img>` - Image descriptions\n",
        "- `<watermark>...</watermark>` - Watermark text\n",
        "- `<page_number>...</page_number>` - Page numbers\n",
        "- `<signature>...</signature>` - Signatures\n",
        "- `☐` `☑` `☒` - Checkbox states\n"
      ]
    },
    {
      "cell_type": "markdown",
      "metadata": {},
      "source": [
        "## Filter and Search\n",
        "\n",
        "Use FiftyOne's powerful filtering to find specific documents.\n"
      ]
    },
    {
      "cell_type": "code",
      "execution_count": null,
      "metadata": {},
      "outputs": [],
      "source": [
        "from fiftyone import ViewField as F\n",
        "\n",
        "# Find samples containing tables\n",
        "with_tables = dataset.match(F(\"ocr_text\").contains_str(\"<table>\"))\n",
        "print(f\"Found {len(with_tables)} samples with tables\")\n",
        "\n",
        "# Find samples with watermarks\n",
        "with_watermarks = dataset.match(F(\"ocr_text\").contains_str(\"<watermark>\"))\n",
        "print(f\"Found {len(with_watermarks)} samples with watermarks\")\n"
      ]
    },
    {
      "cell_type": "markdown",
      "metadata": {},
      "source": [
        "## Resources\n",
        "\n",
        "- [Nanonets-OCR2 Model Card](https://huggingface.co/nanonets/Nanonets-OCR2-3B)\n",
        "- [GitHub Repository](https://github.com/harpreetsahota204/nanonets_ocr2)\n",
        "- [FiftyOne Documentation](https://docs.voxel51.com/)\n"
      ]
    }
  ],
  "metadata": {
    "language_info": {
      "name": "python"
    }
  },
  "nbformat": 4,
  "nbformat_minor": 2
}
